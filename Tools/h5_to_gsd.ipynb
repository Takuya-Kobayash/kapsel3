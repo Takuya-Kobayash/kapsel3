{
 "cells": [
  {
   "cell_type": "markdown",
   "metadata": {},
   "source": [
    "# This Pyhton scripts reads the data.h5 saved in Kapsel and generates the .gsd data of the squirmers to mount movies in Ovito"
   ]
  },
  {
   "cell_type": "markdown",
   "metadata": {},
   "source": [
    "# Author: Federico Fadda\n",
    "# Date: 5/12/2018"
   ]
  },
  {
   "cell_type": "code",
   "execution_count": 219,
   "metadata": {},
   "outputs": [],
   "source": [
    "import numpy as np\n",
    "import gsd.hoomd\n",
    "import h5py"
   ]
  },
  {
   "cell_type": "code",
   "execution_count": 220,
   "metadata": {},
   "outputs": [],
   "source": [
    "#Reading the data in the data.h5 file after the simulation:\n",
    "#Hoomd schema is used:\n",
    "\n",
    "rf = \"/Users/federico/mnt/ebi/kapsel3/1000_squirmers/2/2/output/data.h5\"\n",
    "f = h5py.File(rf, 'r')\n",
    "\n",
    "Lx=64\n",
    "Ly=128\n",
    "Lz=64\n",
    "Np=1000 #number of particles in the system\n",
    "N1=500\n",
    "N2=500\n",
    "tmax=301 #number of snapshots chosen in the input file of Kapsel\n",
    "\n",
    "CM=np.zeros(((301,Np,3)))\n",
    "CMX=np.zeros(Np)\n",
    "CMY=np.zeros(Np)\n",
    "CMZ=np.zeros(Np)\n",
    "\n",
    "#To mount a movie of the squirmers in Ovito the position of each particle in the box is requested!\n",
    "# TO DO: reading the orientations of the particles!!!\n",
    "\n",
    "def create_frame(i):\n",
    "        s = gsd.hoomd.Snapshot()\n",
    "        s.particles.N = Np\n",
    "        s.configuration.step = i\n",
    "        s.configuration.box = [Lx-1, Ly-1, Lz-1, 0, 0, 0]\n",
    "        s.particles.types = ['$C_{2}>0$', '$C_{2}<0$']\n",
    "        s.particles.typeid = np.concatenate(([0 for n in range(0,N1)], [1 for n in range(N1,Np)]))\n",
    "        CM[i,:,:]=f['trajectory_data/frame_'+str(i)+'/particle/pos'].value \n",
    "        for n in range (0,Np):\n",
    "            CMX[n]=CM[i,n,0]-Lx/2 #rescale in order to fit particles correctly in the box! (strangely this doesn't work for 1 squirmer)\n",
    "            CMY[n]=CM[i,n,1]-Ly/2\n",
    "            CMZ[n]=CM[i,n,2]-Lz/2\n",
    "        s.particles.position = [[CMX[n],CMY[n],CMZ[n]] for n in range(Np)]\n",
    "        return s\n",
    "    \n",
    "t = gsd.hoomd.open(name='squirmer_movie.gsd', mode='wb')\n",
    "t.extend( (create_frame(i) for i in range(tmax)) )   \n"
   ]
  },
  {
   "cell_type": "code",
   "execution_count": null,
   "metadata": {},
   "outputs": [],
   "source": []
  }
 ],
 "metadata": {
  "kernelspec": {
   "display_name": "Python 3",
   "language": "python",
   "name": "python3"
  },
  "language_info": {
   "codemirror_mode": {
    "name": "ipython",
    "version": 3
   },
   "file_extension": ".py",
   "mimetype": "text/x-python",
   "name": "python",
   "nbconvert_exporter": "python",
   "pygments_lexer": "ipython3",
   "version": "3.7.0"
  }
 },
 "nbformat": 4,
 "nbformat_minor": 2
}
