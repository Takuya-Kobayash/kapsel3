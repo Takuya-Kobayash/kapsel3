{
 "cells": [
  {
   "cell_type": "markdown",
   "metadata": {},
   "source": [
    "# This Pyhton scripts reads the data.h5 saved in Kapsel and generates the .gsd data of the squirmers to mount movies in Ovito"
   ]
  },
  {
   "cell_type": "markdown",
   "metadata": {},
   "source": [
    "# Author: Federico Fadda\n",
    "# Date: 5/12/2018"
   ]
  },
  {
   "cell_type": "code",
   "execution_count": 7,
   "metadata": {},
   "outputs": [],
   "source": [
    "import numpy as np\n",
    "import gsd.hoomd\n",
    "import h5py"
   ]
  },
  {
   "cell_type": "code",
   "execution_count": 16,
   "metadata": {},
   "outputs": [],
   "source": [
    "#Reading the data in the data.h5 file after the simulation:\n",
    "#Hoomd schema is used:\n",
    "\n",
    "rf = \"/Users/federico/mnt/ebi/Shear_azimuthal/0/Shear_1.1_x/output/data.h5\"\n",
    "f = h5py.File(rf, 'r')\n",
    "\n",
    "Lx=64\n",
    "Ly=64\n",
    "Lz=64\n",
    "Np=1 #number of particles in the system\n",
    "N1=1\n",
    "N2=0\n",
    "tmax=200 #number of snapshots chosen in the input file of Kapsel\n",
    "\n",
    "VCM=np.zeros(((tmax,Np,3)))\n",
    "CM=np.zeros(((tmax,Np,3)))\n",
    "CMX=np.zeros(Np)\n",
    "CMY=np.zeros(Np)\n",
    "CMZ=np.zeros(Np)\n",
    "VCMX=np.zeros(Np)\n",
    "VCMY=np.zeros(Np)\n",
    "VCMZ=np.zeros(Np)\n",
    "\n",
    "#To mount a movie of the squirmers in Ovito the position of each particle in the box is requested!\n",
    "# TO DO: reading the orientations of the particles!!!\n",
    "\n",
    "def create_frame(i):\n",
    "        s = gsd.hoomd.Snapshot()\n",
    "        s.particles.N = Np\n",
    "        s.configuration.step = i\n",
    "        s.configuration.box = [Lx-1, Ly-1, Lz-1, 0, 0, 0]\n",
    "        s.particles.types = ['0']\n",
    "        #s.particles.types = ['0', '1']\n",
    "        s.particles.typeid = np.concatenate(([0 for n in range(0,N1)], [1 for n in range(N1,Np)]))\n",
    "        CM[i,:,:]=f['trajectory_data/frame_'+str(i)+'/particle/pos'].value \n",
    "        VCM[i,:,:]=f['trajectory_data/frame_'+str(i)+'/particle/vel'].value \n",
    "        for n in range (0,Np):\n",
    "            CMX[n]=CM[i,n,0]-(Lx-1)*0.5 #If I put Lx it doesn't work for one particle!\n",
    "            CMY[n]=CM[i,n,1]-(Ly-1)*0.5\n",
    "            CMZ[n]=CM[i,n,2]-(Lz-1)*0.5\n",
    "            VCMX[n]=VCM[i,n,0]\n",
    "            VCMY[n]=VCM[i,n,1]\n",
    "            VCMZ[n]=VCM[i,n,2]\n",
    "        s.orientation = [[1,0,0,0]]\n",
    "        s.particles.position = [[CMX[n],CMY[n],CMZ[n]] for n in range(Np)]\n",
    "        s.particles.velocity = [[VCMX[n],VCMY[n],VCMZ[n]] for n in range(Np)]\n",
    "        return s\n",
    "    \n",
    "t = gsd.hoomd.open(name='squirmer_movie.gsd', mode='wb')\n",
    "t.extend( (create_frame(i) for i in range(tmax)) )\n",
    "\n"
   ]
  },
  {
   "cell_type": "code",
   "execution_count": null,
   "metadata": {},
   "outputs": [],
   "source": []
  }
 ],
 "metadata": {
  "kernelspec": {
   "display_name": "Python 3",
   "language": "python",
   "name": "python3"
  },
  "language_info": {
   "codemirror_mode": {
    "name": "ipython",
    "version": 3
   },
   "file_extension": ".py",
   "mimetype": "text/x-python",
   "name": "python",
   "nbconvert_exporter": "python",
   "pygments_lexer": "ipython3",
   "version": "3.7.0"
  }
 },
 "nbformat": 4,
 "nbformat_minor": 2
}
